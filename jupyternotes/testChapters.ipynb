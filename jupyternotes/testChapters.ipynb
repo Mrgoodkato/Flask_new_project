{
 "cells": [
  {
   "cell_type": "code",
   "execution_count": 57,
   "metadata": {},
   "outputs": [],
   "source": [
    "import pandas as pd\n",
    "import re\n",
    "\n",
    "def gatherHTSInput(hts: str):\n",
    "    \"\"\"Method to organize the hts input from the user in order to create a dictinary for following search in the chapter data\n",
    "\n",
    "    Args:\n",
    "        hts (str): HTS string for the query\n",
    "\n",
    "    Returns:\n",
    "        Dict: Returns a dictionary with the hts information divided into its constituent parts for search, as well as a literal string of the hts input\n",
    "    \"\"\"\n",
    "    #Create the regex expressions to clean and gather the hts number\n",
    "    pattern_period = re.compile('[\\.]|[\\,]|[\\-]')\n",
    "    pattern_list = re.compile('(?:^[\\d]{4})|(?:[\\d]{2})')\n",
    "    \n",
    "    #Clean initial input of special symbols\n",
    "    hts_number = re.sub(pattern=pattern_period, string=hts, repl='')\n",
    "\n",
    "    #Match with hts format to separate all numbers in groups\n",
    "    match_obj = re.findall(pattern_list, hts_number)\n",
    "\n",
    "    \n",
    "    #Formatting final object\n",
    "    if match_obj:\n",
    "\n",
    "        stored_hts = ''\n",
    "        index = 0\n",
    "\n",
    "        for htsSection in match_obj:\n",
    "\n",
    "            if(index == 0): stored_hts += htsSection\n",
    "            else: stored_hts += '.' + htsSection\n",
    "            match_obj[index] = stored_hts\n",
    "            index = index + 1\n",
    "        \n",
    "        return {\n",
    "            'hts': hts_number,\n",
    "            'groups': match_obj\n",
    "        }\n",
    "    \n",
    "    #If no results return 0 \n",
    "    else:\n",
    "        return 0\n",
    "\n",
    "def searchHTSDatabase(grabbed_hts):\n",
    "    \n",
    "    chapterObj = pd.read_json('..\\db_hts\\chapter_1.json', orient='records')\n",
    "    #Create the empty list for the final grouping result\n",
    "    grabbed_hts_grouping = []\n",
    "    #Final result dictinary\n",
    "    query_result = {\n",
    "        'HTS Definition': '',\n",
    "        'Details': []\n",
    "    }\n",
    "\n",
    "    #For loop that goes by each row in the chapterObj dataframe with index number and row data\n",
    "    for index,row in chapterObj.iterrows():\n",
    "\n",
    "        #For loop that goes into each of the groups of the captured hts input\n",
    "        for group in grabbed_hts['groups']:\n",
    "\n",
    "            #Condition to check if the HTS coincides with the data being checked in the 'htsno' column\n",
    "            if(group == row['htsno']):\n",
    "                \n",
    "                #Condition that checks if the next row has the 'superior' data set to true, meaning there is a description of the code additional to the code\n",
    "                if(chapterObj.loc[index+1, 'superior'] == 'true'):\n",
    "                    #Saving the 'superior' description into the grabbed_hts_grouping list\n",
    "                    next_row = chapterObj.loc[index+1, :]\n",
    "                    new_index = index + 1\n",
    "                    query_result['HTS Definition'] += '| ' + next_row['description']\n",
    "                    grabbed_hts_grouping.append(\n",
    "                        {\n",
    "                        'Index': new_index,\n",
    "                        'Indent': next_row['indent'],\n",
    "                        'Description': next_row['description']\n",
    "                        }\n",
    "                    )\n",
    "                #Saving the hts info of the row in the grabbed_hts_grouping list\n",
    "                query_result['HTS Definition'] += '| ' + row['description']    \n",
    "                grabbed_hts_grouping.append(\n",
    "                    {\n",
    "                        'Index': index,\n",
    "                        'Indent': row['indent'],\n",
    "                        'Code': group,\n",
    "                        'Description': row['description'],\n",
    "                        'Duty': row['general'],\n",
    "                        'Special program': row['special'],\n",
    "                        'UOM': row['units'],\n",
    "                        'Notes': row['footnotes']\n",
    "                    }\n",
    "                )\n",
    "    query_result['Details'] = grabbed_hts_grouping\n",
    "\n",
    "    return query_result\n"
   ]
  },
  {
   "cell_type": "markdown",
   "metadata": {},
   "source": [
    "Input of the test_string data (meaning the hts the user will input to search) and executing the gatherHTSInput function in order to get the final hts object data for search in the hts database below."
   ]
  },
  {
   "cell_type": "code",
   "execution_count": 56,
   "metadata": {},
   "outputs": [],
   "source": [
    "test_string = '0103.92.00.20'\n",
    "\n",
    "grabbed_hts = gatherHTSInput(test_string)\n",
    "\n",
    "final_query = searchHTSDatabase(grabbed_hts)"
   ]
  },
  {
   "cell_type": "code",
   "execution_count": 58,
   "metadata": {},
   "outputs": [
    {
     "data": {
      "text/plain": [
       "{'HTS Definition': '| Live swine:| Weighing 50 kg or more each| Breeding animals other than purebred breeding animals',\n",
       " 'Details': [{'Index': 72,\n",
       "   'Indent': 0,\n",
       "   'Code': '0103',\n",
       "   'Description': 'Live swine:',\n",
       "   'Duty': '',\n",
       "   'Special program': '',\n",
       "   'UOM': [],\n",
       "   'Notes': []},\n",
       "  {'Index': 79,\n",
       "   'Indent': 2,\n",
       "   'Code': '0103.92.00',\n",
       "   'Description': 'Weighing 50 kg or more each',\n",
       "   'Duty': 'Free',\n",
       "   'Special program': '',\n",
       "   'UOM': [],\n",
       "   'Notes': [{'columns': ['general'],\n",
       "     'marker': '1',\n",
       "     'value': 'See 9903.88.15. ',\n",
       "     'type': 'endnote'}]},\n",
       "  {'Index': 81,\n",
       "   'Indent': 3,\n",
       "   'Code': '0103.92.00.20',\n",
       "   'Description': 'Breeding animals other than purebred breeding animals',\n",
       "   'Duty': '',\n",
       "   'Special program': '',\n",
       "   'UOM': ['No.', 'kg'],\n",
       "   'Notes': []}]}"
      ]
     },
     "execution_count": 58,
     "metadata": {},
     "output_type": "execute_result"
    }
   ],
   "source": [
    "final_query"
   ]
  },
  {
   "cell_type": "code",
   "execution_count": null,
   "metadata": {},
   "outputs": [],
   "source": [
    "\n"
   ]
  }
 ],
 "metadata": {
  "kernelspec": {
   "display_name": "Python 3",
   "language": "python",
   "name": "python3"
  },
  "language_info": {
   "codemirror_mode": {
    "name": "ipython",
    "version": 3
   },
   "file_extension": ".py",
   "mimetype": "text/x-python",
   "name": "python",
   "nbconvert_exporter": "python",
   "pygments_lexer": "ipython3",
   "version": "3.11.3"
  }
 },
 "nbformat": 4,
 "nbformat_minor": 2
}
